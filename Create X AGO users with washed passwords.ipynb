{
 "cells": [
  {
   "cell_type": "markdown",
   "metadata": {},
   "source": [
    "## Create X new users with a washed password - Nov 2020\n",
    "\n"
   ]
  },
  {
   "cell_type": "code",
   "execution_count": null,
   "metadata": {},
   "outputs": [],
   "source": [
    "#update all variables in this cell based on inbound request and YOUR dredentials\n",
    "accts=1\n",
    "acctEmail='xxxxxxxx@gmail.com'\n",
    "\n",
    "## admin credentials to run script\n",
    "adminuser=\"xxxxxxx\"\n",
    "password=\"xxxxxxxx\"\n",
    "\n",
    "from arcgis.gis import GIS\n",
    "from arcgis import features\n",
    "gis = GIS(\"http://xxxxxxxxx.maps.arcgis.com\",adminuser,password)\n",
    "print('ok.')"
   ]
  },
  {
   "cell_type": "code",
   "execution_count": null,
   "metadata": {},
   "outputs": [],
   "source": [
    "#spin up youth accounts (adding to GROUP)\n",
    "print('accounts:')\n",
    "for j in range(1,accts+1):\n",
    "    usrnm='TGz.' + '.' + str(f'{j:03}')\n",
    "    target_user = gis.users.create(username =  usrnm,\n",
    "                            password = 'ChangeMe101',\n",
    "                            firstname = str(f'{j:03}'),\n",
    "                            lastname = 'TechGirlz',\n",
    "                            email = acctEmail,\n",
    "                            credits=50,\n",
    "                            description = '',\n",
    "                            role = 'org_user',\n",
    "                            level = 2,\n",
    "                            provider = 'arcgis')\n",
    "    target_user\n",
    "    print ('youth user:    ' + target_user.username)\n",
    "    #reset password\n",
    "    newUser = gis.users.get(username = usrnm)\n",
    "    \n",
    "    newUser.reset(password='ChangeMe101', \n",
    "                new_password='PasswordFixed102', \n",
    "                new_security_question=1, \n",
    "                new_security_answer='Redlands', \n",
    "                reset_by_email=False)\n",
    "    print('Password washed.')\n",
    "print('...')"
   ]
  },
  {
   "cell_type": "code",
   "execution_count": null,
   "metadata": {},
   "outputs": [],
   "source": []
  }
 ],
 "metadata": {
  "esriNotebookRuntime": {
   "notebookRuntimeName": "ArcGIS Notebook Python 3 Standard",
   "notebookRuntimeVersion": "3.0"
  },
  "kernelspec": {
   "display_name": "Python 3",
   "language": "python",
   "name": "python3"
  },
  "language_info": {
   "codemirror_mode": {
    "name": "ipython",
    "version": 3
   },
   "file_extension": ".py",
   "mimetype": "text/x-python",
   "name": "python",
   "nbconvert_exporter": "python",
   "pygments_lexer": "ipython3",
   "version": "3.6.9"
  }
 },
 "nbformat": 4,
 "nbformat_minor": 2
}

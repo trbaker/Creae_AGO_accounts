{
 "cells": [
  {
   "cell_type": "markdown",
   "metadata": {},
   "source": [
    "# AGO Workshop Tools v2\n",
    "\n",
    "Create 50 Publishers in an ArcGIS Online organization\n",
    "\n",
    "This script creates bulk users, deltes their content and groups, and deletes those account.  Run the first block of code and then run the required blocks (create, delete content, delete users).\n",
    "\n",
    "version 2.0 July 2018 (post-UC Revoke fix) /trb   \n",
    "https://github.com/trbaker/AGOworkshop"
   ]
  },
  {
   "cell_type": "code",
   "execution_count": null,
   "metadata": {
    "collapsed": true
   },
   "outputs": [],
   "source": [
    "# Run this code block to initialize the script\n",
    "\n",
    "# import enviros and set vars  ############################################################################## \n",
    "from arcgis.gis import GIS\n",
    "from IPython.display import display\n",
    "import time\n",
    "\n",
    "# USER SET VARIABLES ###############################################################\n",
    "userCount=50                                 # this is the number of anon student accounts to generate. if you want 100, set this number to 100.\n",
    "orgurl = \"http://xxxxxx.maps.arcgis.com\"   # use full URL, eg http://mySchoolName.maps.arcgis.com\n",
    "genericStudentBaseUsername = \"GISlearner\"     #CHANGE THIS VALUE. This string is the base username. An incremented integer is appended. Example: \"TigerStudentAcct\" \n",
    "genericStudentpw = \"GenericPW\"            # change this password. It will be the default password for all new student accounts.\n",
    "genericStudentEmail = \"edcommunity@esri.com\"  # change this email to a teacher's or administrator's email (eg teacherlastname@myschool.org)\n",
    "genericStudentLevel = \"org_publisher\"         # Use only: org_user, org_publisher (no custom roles)\n",
    "adminuser = \"\"                                # login for the admin account creating the new users\n",
    "adminpw = \"\"                                  # password for the admin account creating new users\n",
    "\n",
    "# main ##############################################################################       \n",
    "gis = GIS(orgurl, adminuser, adminpw)\n",
    "\n",
    "# CREATE USER LIST ##############################################################################\n",
    "list_users=[]\n",
    "for n in range(0,userCount):\n",
    "    list_users.append(genericStudentBaseUsername + str(n))\n",
    "\n",
    "print(list_users)"
   ]
  },
  {
   "cell_type": "code",
   "execution_count": null,
   "metadata": {
    "collapsed": true
   },
   "outputs": [],
   "source": [
    "# Run if needed:\n",
    "# DELETE USER CONTENT ##############################################################################\n",
    "\n",
    "for j in list_users:\n",
    "    try:\n",
    "        print('Deleting content of user: ' + j)\n",
    "        user = gis.users.get(j)\n",
    "        for item in user.items():\n",
    "            try:\n",
    "                item.protect(enable = False)\n",
    "                item.delete()\n",
    "                print(\" \")\n",
    "            except Exception as e:\n",
    "                print(\"Item not deleted. It may be delete-protected.\")\n",
    "        # iterate over items in user sub-folders and delete\n",
    "        for folder in user.folders:\n",
    "            folderitems = user.items(folder=folder['title'])\n",
    "            for item in folderitems:\n",
    "                try:\n",
    "                    item.delete()\n",
    "                    print(\" \")\n",
    "                except Exception as e:\n",
    "                    print(\"Item not deleted. It may be delete-protected.\")\n",
    "        # delete the folders\n",
    "        for folder in user.folders:\n",
    "            try:\n",
    "                source.content.delete_folder(folder['title'], user)\n",
    "                print(\" \")\n",
    "            except Exception as e:\n",
    "                print(\"A folder was not deleted. It may contain delete-protected content.\")\n",
    "        # delete groups owned\n",
    "        user_groups = gis.groups.search('owner:' + j, max_groups=50)\n",
    "        for i in user_groups:\n",
    "            i.delete()\n",
    "    except:\n",
    "        print('An error has been raised.')            \n"
   ]
  },
  {
   "cell_type": "code",
   "execution_count": null,
   "metadata": {
    "collapsed": true
   },
   "outputs": [],
   "source": [
    "# run if needed:\n",
    "# DELETE USERs ##############################################################################\n",
    "\n",
    "insights_license = gis.admin.license.get('Insights for ArcGIS')\n",
    "pro_license = gis.admin.license.get('ArcGIS Pro')\n",
    "\n",
    "for k in list_users:\n",
    "    try:\n",
    "        print('Deleting user: ' + k)\n",
    "        deluser = gis.users.get(k)\n",
    "        insights_license.revoke(username=k, entitlements='*')\n",
    "        pro_license.revoke(username=k, entitlements='*')\n",
    "        deluser.delete()\n",
    "    except Exception as e:\n",
    "        print(\"user delete failed.\")\n",
    "        "
   ]
  },
  {
   "cell_type": "code",
   "execution_count": null,
   "metadata": {
    "collapsed": true
   },
   "outputs": [],
   "source": [
    "# Run if needed:\n",
    "# CREATE USERS  ############################################################################## \n",
    "\n",
    "def createUser():\n",
    "    stuName=genericStudentBaseUsername+str(j)\n",
    "    target_user = gis.users.create(stuName, genericStudentpw, 'ArcGIS', \n",
    "        'Student', genericStudentEmail,'Description: temporary user account', genericStudentLevel)\n",
    "    target_user\n",
    "    display(target_user)\n",
    "        \n",
    "for j in range(0,userCount):\n",
    "    try:\n",
    "        createUser()\n",
    "    except Exception as Ex:\n",
    "        print(str(Ex))\n",
    "        print(\"Unable to create user \")\n",
    "        \n",
    "# Add Insights to new accounts ########################################################\n",
    "insights_license = gis.admin.license.get('Insights for ArcGIS')\n",
    "pro_license = gis.admin.license.get('ArcGIS Pro')\n",
    "for i in list_users:\n",
    "    insights_license.assign(username=i, entitlements='Insights')\n",
    "    pro_license.assign(username=i, entitlements='desktopAdvN')\n",
    "    \n",
    "    "
   ]
  },
  {
   "cell_type": "code",
   "execution_count": null,
   "metadata": {
    "collapsed": true
   },
   "outputs": [],
   "source": []
  }
 ],
 "metadata": {
  "kernelspec": {
   "display_name": "Python 3",
   "language": "python",
   "name": "python3"
  },
  "language_info": {
   "codemirror_mode": {
    "name": "ipython",
    "version": 3
   },
   "file_extension": ".py",
   "mimetype": "text/x-python",
   "name": "python",
   "nbconvert_exporter": "python",
   "pygments_lexer": "ipython3",
   "version": "3.7.6"
  }
 },
 "nbformat": 4,
 "nbformat_minor": 2
}

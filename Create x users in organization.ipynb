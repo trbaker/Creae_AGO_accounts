{
 "cells": [
  {
   "cell_type": "markdown",
   "metadata": {},
   "source": [
    "## Create X new users in a target org\n"
   ]
  },
  {
   "cell_type": "code",
   "execution_count": null,
   "metadata": {},
   "outputs": [],
   "source": [
    "#update all variables in this cell based on inbound request and YOUR dredentials\n",
    "accts=1\n",
    "acctEmail='charliefmn@gmail.com'\n",
    "\n",
    "## admin credentials to run script\n",
    "adminuser=\"xxxxxxx\"\n",
    "password=\"xxxxxxxx\"\n",
    "\n",
    "from arcgis.gis import GIS\n",
    "from arcgis import features\n",
    "gis = GIS(\"http://xxxxxxx.maps.arcgis.com\",adminuser,password)\n"
   ]
  },
  {
   "cell_type": "code",
   "execution_count": null,
   "metadata": {},
   "outputs": [],
   "source": [
    "#spin up youth accounts (adding to GROUP)\n",
    "print('accounts:')\n",
    "for j in range(1,accts+1):\n",
    "    target_user = gis.users.create(username =  'TechGirlz.' + '.' + str(f'{j:03}'),\n",
    "                            password = 'ChangeMe101',\n",
    "                            firstname = str(f'{j:03}'),\n",
    "                            lastname = 'TechGirlz',\n",
    "                            email = acctEmail,\n",
    "                            credits=50,\n",
    "                            description = '',\n",
    "                            role = 'org_publisher',\n",
    "                            level = 2,\n",
    "                            provider = 'arcgis')\n",
    "    target_user\n",
    "    print ('youth user: ' + target_user.username + '      pw: ChangeMe101')\n",
    "print('...')"
   ]
  }
 ],
 "metadata": {
  "esriNotebookRuntime": {
   "notebookRuntimeName": "ArcGIS Notebook Python 3 Standard",
   "notebookRuntimeVersion": "3.0"
  },
  "kernelspec": {
   "display_name": "Python 3",
   "language": "python",
   "name": "python3"
  },
  "language_info": {
   "codemirror_mode": {
    "name": "ipython",
    "version": 3
   },
   "file_extension": ".py",
   "mimetype": "text/x-python",
   "name": "python",
   "nbconvert_exporter": "python",
   "pygments_lexer": "ipython3",
   "version": "3.6.9"
  }
 },
 "nbformat": 4,
 "nbformat_minor": 2
}
